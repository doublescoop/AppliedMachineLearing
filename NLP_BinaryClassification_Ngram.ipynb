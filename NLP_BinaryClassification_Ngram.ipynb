{
 "cells": [
  {
   "cell_type": "markdown",
   "metadata": {},
   "source": [
    "<h2><center>CS5785 Assignment 2 </center></h2>\n",
    "      \n",
    "         \n",
    "   <center>by Eunsol Choi(ec897), Ling Zhong(lz555)</center>"
   ]
  },
  {
   "cell_type": "markdown",
   "metadata": {},
   "source": [
    "# Binary Classification on Text Data(2/3)\n",
    "\n",
    "## Goal: to tell if a tweet is announcing a natural disaster or not. Programmatically monitoring Twitter can contribute to detecting emergency situations. \n",
    "For training, we're using the 'disaster tweets' from kaggle \n",
    "dataset source: https://www.kaggle.com/c/nlp-getting-started/overview\n",
    "\n",
    "### We used Ngram to vectorize the tweets after some preprocessing. It uses about 3239 vocabularies as features. Ran Bernoulli Naive Bayes, Logistic Regression, SVM, non-linear SVM. We compared f-1 scores of each.  \n",
    "\n",
    "                    Naive Bayes, Bernoulli shows F1 score of 0.722719\n",
    "                    Logistic regression classfier shows F1 score of 0.739179\n",
    "                    LinearSVM classifier shows F1 score of 0.742138\n",
    "                    nonLinearSVM classifier shows F1 score of 0.7390300\n",
    "\n",
    "\n",
    "### Furthermore, we incorported more features from the original dataset for the Ngram. The dataset has 'keyword' and 'location' columns. We've added the keywords and location at the end of the tweet. It performed better. \n",
    "\n",
    "\n",
    "                    Logistic regression classfier shows F1 score of 0.746494\n",
    "                    LinearSVM classifier shows F1 score of 0.665983\n",
    "                    nonLinearSVM classifier shows F1 score of 0.7344632\n"
   ]
  },
  {
   "cell_type": "markdown",
   "metadata": {},
   "source": [
    "# (i) Ngram\n",
    " - Using N = 2, construct feature representations of the tweets in the train and dev tweets\n",
    " - Discuss how you chose the threshold M\n",
    " - report the total number of 1-grams and 2-grams in your vocabulary\n",
    " - randomly sample 10 2-grams from your vocabulary, and print them out\n",
    " - repeat parts (e)-(h), and report the results. \n",
    "   Do these results differ significantly from those using the bag of words model? \n",
    "   Discuss what this implies about the task."
   ]
  },
  {
   "cell_type": "markdown",
   "metadata": {},
   "source": [
    "###  Using N = 2, construct feature representations of the tweets in the train and dev tweets\n"
   ]
  },
  {
   "cell_type": "code",
   "execution_count": 29,
   "metadata": {},
   "outputs": [],
   "source": [
    "#https://scikit-learn.org/stable/modules/feature_extraction.html\n",
    "bigram_vectorizer = CountVectorizer(ngram_range=(1, 2), \\\n",
    "                                     token_pattern=r'\\b\\w+\\b', min_df=4)\n",
    "\n",
    "X_2 = bigram_vectorizer.fit_transform(X_train['lemmatized']).toarray()\n",
    "X_dev_2 = bigram_vectorizer.transform(X_dev['lemmatized']).toarray()"
   ]
  },
  {
   "cell_type": "markdown",
   "metadata": {},
   "source": [
    "### Discuss how you chose the threshold M"
   ]
  },
  {
   "cell_type": "markdown",
   "metadata": {},
   "source": [
    "We sampled and examined the frequency of the top 50% Ngrams and decide that M=4."
   ]
  },
  {
   "cell_type": "markdown",
   "metadata": {},
   "source": [
    "### the total number of 1-grams and 2-grams is 3239"
   ]
  },
  {
   "cell_type": "code",
   "execution_count": 30,
   "metadata": {},
   "outputs": [
    {
     "data": {
      "text/plain": [
       "(5329, 3239)"
      ]
     },
     "execution_count": 30,
     "metadata": {},
     "output_type": "execute_result"
    }
   ],
   "source": [
    "X_2.shape\n",
    "# X_dev_2.shape\n",
    "#3259 features when min_df=4\n",
    "#4570 features when min_df=3"
   ]
  },
  {
   "cell_type": "markdown",
   "metadata": {},
   "source": [
    "### random Ngram sample of 10: ['thunderstorm warning', 'caused structural', 'battle occurred', 'invoice make', 'flag via', 'bigger projected', 'chemical dependency', 'incident injury', 'aftershock dubstep', 'rise top']\n",
    "\n",
    "- slightly different every time, according to how the train/dev set was randomly divided\n"
   ]
  },
  {
   "cell_type": "code",
   "execution_count": 33,
   "metadata": {},
   "outputs": [
    {
     "name": "stdout",
     "output_type": "stream",
     "text": [
      "['thunderstorm warning', 'caused structural', 'battle occurred', 'invoice make', 'flag via', 'bigger projected', 'chemical dependency', 'incident injury', 'aftershock dubstep', 'rise top']\n"
     ]
    }
   ],
   "source": [
    "# randomly sample 10 2-grams from your vocabulary, and print them out\n",
    "import random\n",
    "\n",
    "bigram_fnames = bigram_vectorizer.get_feature_names()\n",
    "\n",
    "#extract only the 2-grams from the mixture\n",
    "bigram_2gram = [word for word in bigram_fnames if len(word.split(\" \"))==2]\n",
    "        \n",
    "bigram_sample = random.sample(bigram_2gram, 10)\n",
    "\n",
    "print(bigram_sample)"
   ]
  },
  {
   "cell_type": "markdown",
   "metadata": {},
   "source": [
    "### applying different classifiers (e)~(h) with Ngram \n",
    "    Naive Bayes, Bernoulli shows F1 score of 0.722719\n",
    "    Logistic Regression shows F1 score of 0.739179\n",
    "    SVM at C = 0.04 shows F1 score of 0.742138\n",
    "    "
   ]
  },
  {
   "cell_type": "markdown",
   "metadata": {},
   "source": [
    "##### (e2)Naive Bayes Bernoulli with Ngram"
   ]
  },
  {
   "cell_type": "code",
   "execution_count": 34,
   "metadata": {},
   "outputs": [
    {
     "name": "stdout",
     "output_type": "stream",
     "text": [
      "phis of each class: [0.56370801 0.43629199]\n",
      "Naive Bayes, Bernoulli shows F1 score of 0.722719\n"
     ]
    },
    {
     "data": {
      "text/plain": [
       "0.7227191413237926"
      ]
     },
     "execution_count": 34,
     "metadata": {},
     "output_type": "execute_result"
    }
   ],
   "source": [
    "# Naive Bayes Bernoulli classifier\n",
    "#codes from CS5785 lecture note 8\n",
    "\n",
    "n = X_2.shape[0] #dataset size\n",
    "d = X_2.shape[1] #number of features in our dataset\n",
    "K = 2 #number of classes. Here we have two: disaster, not disaste\n",
    "\n",
    "#build empty vectors of corresponding shapes\n",
    "psis = np.zeros([K,d])\n",
    "phis = np.zeros([K])\n",
    "\n",
    "\n",
    "#compute parameters and fill in the vectors for each class\n",
    "for k in range(K):\n",
    "    X_k = X_2[y_train == k]\n",
    "    psis[k] = np.mean(X_k, axis=0) #feature probability \n",
    "    phis[k] = X_k.shape[0] / float(n) #class proportion\n",
    "    \n",
    "\n",
    "print(\"phis of each class:\", phis)\n",
    "\n",
    "\n",
    "def nb_predictions(x, psis, phis):\n",
    "    #to compute \\arg\\max_y p(x|y)*p(y)\n",
    "    \n",
    "    #adjust shapes\n",
    "    n, d = x.shape\n",
    "    x = np.reshape(x, (1 , n, d))\n",
    "    psis = np.reshape(psis, (K, 1, d))\n",
    "    \n",
    "    #clip probabilities to avoid log(0)\n",
    "    psis = psis.clip(1e-14, 1-1e-14)\n",
    "    \n",
    "    #compute log-probabilities \n",
    "    logpy = np.log(phis).reshape([K,1])\n",
    "    logpxy = x*np.log(psis) + (1-x)*np.log(1-psis)\n",
    "    logpyx = logpxy.sum(axis=2) + logpy\n",
    "    \n",
    "    return logpyx.argmax(axis=0).flatten(), logpyx.reshape([K,n])\n",
    "\n",
    "x_pred, computedlogpyx = nb_predictions(X_dev_2, psis, phis)\n",
    "\n",
    "f1(x_pred, y_dev, 'Naive Bayes, Bernoulli')"
   ]
  },
  {
   "cell_type": "markdown",
   "metadata": {},
   "source": [
    "##### (f2) Log Reg with Ngram"
   ]
  },
  {
   "cell_type": "code",
   "execution_count": 39,
   "metadata": {},
   "outputs": [
    {
     "name": "stdout",
     "output_type": "stream",
     "text": [
      "Logistic Regression shows F1 score of 0.739179\n",
      "The top ten feature names are:\n",
      "0: japan, casualty, derailment, flood, storm, drought, typhoon, earthquake, wildfire, hiroshima\n",
      "1: japan, casualty, derailment, flood, storm, drought, typhoon, earthquake, wildfire, hiroshima\n"
     ]
    }
   ],
   "source": [
    "# Fitting a simple Logistic Regression on BoW\n",
    "logreg_bow = LogisticRegression(C=1.0)\n",
    "lr_trained = logreg_bow.fit(X_2, y_train)\n",
    "\n",
    "#metrics\n",
    "lr_x_pred = lr_trained.predict(X_dev_2)\n",
    "\n",
    "f1(lr_x_pred, y_dev, 'Logistic Regression')\n",
    "print_top10(bigram_vectorizer, lr_trained, class_labels)"
   ]
  },
  {
   "cell_type": "markdown",
   "metadata": {},
   "source": [
    "##### (g2) LinearSVM Classifier with Ngram"
   ]
  },
  {
   "cell_type": "code",
   "execution_count": 40,
   "metadata": {},
   "outputs": [
    {
     "name": "stdout",
     "output_type": "stream",
     "text": [
      "When C=  0.001\n",
      "LinearSVM Classifier shows F1 score of 0.528926\n",
      "When C=  0.01\n",
      "LinearSVM Classifier shows F1 score of 0.724305\n",
      "When C=  0.02\n",
      "LinearSVM Classifier shows F1 score of 0.728983\n",
      "When C=  0.04\n",
      "LinearSVM Classifier shows F1 score of 0.742138\n",
      "When C=  0.06\n",
      "LinearSVM Classifier shows F1 score of 0.740657\n",
      "When C=  0.08\n",
      "LinearSVM Classifier shows F1 score of 0.738617\n",
      "When C=  0.1\n",
      "LinearSVM Classifier shows F1 score of 0.736607\n",
      "When C=  0.2\n",
      "LinearSVM Classifier shows F1 score of 0.728368\n",
      "When C=  1.0\n",
      "LinearSVM Classifier shows F1 score of 0.708928\n",
      "When C=  10.0\n",
      "LinearSVM Classifier shows F1 score of 0.683325\n"
     ]
    },
    {
     "name": "stderr",
     "output_type": "stream",
     "text": [
      "/Users/dd/opt/anaconda3/lib/python3.8/site-packages/sklearn/svm/_base.py:976: ConvergenceWarning: Liblinear failed to converge, increase the number of iterations.\n",
      "  warnings.warn(\"Liblinear failed to converge, increase \"\n"
     ]
    },
    {
     "name": "stdout",
     "output_type": "stream",
     "text": [
      "When C=  100.0\n",
      "LinearSVM Classifier shows F1 score of 0.662950\n"
     ]
    },
    {
     "data": {
      "image/png": "[encoded data removed]",
      "text/plain": [
       "<Figure size 720x432 with 1 Axes>"
      ]
     },
     "metadata": {
      "needs_background": "light"
     },
     "output_type": "display_data"
    },
    {
     "name": "stdout",
     "output_type": "stream",
     "text": [
      "C = 0.04  yields the best classification performance with F1-score of 0.742138\n",
      "The top ten feature names are:\n",
      "0: derailment, typhoon, massacre, casualty, flood, storm, drought, earthquake, wildfire, hiroshima\n",
      "1: derailment, typhoon, massacre, casualty, flood, storm, drought, earthquake, wildfire, hiroshima\n"
     ]
    }
   ],
   "source": [
    "\n",
    "C_range= [0.001, 0.01, 0.02, 0.04, 0.06, 0.08, 0.1, 0.2, 1.0, 10.0, 100.0]\n",
    "F1_lsvm = {}\n",
    "\n",
    "#train and test\n",
    "C=0\n",
    "for C in C_range:\n",
    "    lsvm = LinearSVC(C=C, tol=1e-4,dual=False,random_state=0)\n",
    "    lsvm.fit(X_2, y_train)\n",
    "    lsvm_pred = lsvm.predict(X_dev_2)\n",
    "    #calculate F1\n",
    "    print('When C= ', C)\n",
    "    F1_lsvm[C] = f1(lsvm_pred, y_dev, 'LinearSVM Classifier')\n",
    "    \n",
    "    if C == max(F1_lsvm, key=F1_lsvm.get):\n",
    "        lsvm_best_estimator = lsvm\n",
    "        lsvm_bestC = C\n",
    "        \n",
    "#plot the F1 score figure\n",
    "\n",
    "def lsvm_plot (C_range, F1_lsvm):  \n",
    "    plt.subplots(figsize=(10,6))\n",
    "    plt.plot(C_range, F1_lsvm.values())\n",
    "    plt.xlabel('C') \n",
    "    plt.ylabel('F1 score on dev set') \n",
    "    plt.xscale(\"log\")\n",
    "    plt.title('LinearSVM Score') \n",
    "    plt.show() \n",
    "\n",
    "lsvm_plot(C_range, F1_lsvm)\n",
    "\n",
    "#compare the best parameter with Linear Regression Classifier\n",
    "print('C =', lsvm_bestC,' yields the best classification performance with F1-score of {:4f}'.format(F1_lsvm[lsvm_bestC]))\n",
    "\n",
    "print_top10(bigram_vectorizer, lsvm_best_estimator, lsvm.classes_)"
   ]
  },
  {
   "cell_type": "markdown",
   "metadata": {},
   "source": [
    "### We can see that the best LinearSVM classifier (F1-score=0.742138) slightly underperforms the logistic regression classfier (F1-score = 0.739179).\n",
    "### applying different classifiers (e)~(h) with Ngram \n",
    "\n",
    "\n",
    "### According to our LinearSVM classifier, the Top 10 words for deciding whether a tweet is about a real disaster or not are:\n",
    "<font color=orange size=4.9><b> [ massacre, bombing, hailstorm, case, flood, evacuated, earthquake, storm, hiroshima, wildfire ]</b> </font>\n",
    "### Comparing with the Top 10 most important keywords of LR classifier:\n",
    "<font color=orange size=4.9><b> [ case, derailment, hailstorm, evacuated, flood, bombing, earthquake, storm, hiroshima, wildfire ]</b></font>\n",
    "### we can see that 9 out of 10 of the keywords are the same for both classifier. The only different word is <font color=blue> derailment </font> vs <font color=blue> massacre </font>"
   ]
  },
  {
   "cell_type": "markdown",
   "metadata": {},
   "source": [
    "##### (h2) Non-linear SVM Classifier with Ngram\n",
    "\n",
    "After adopting Ngram model, the runtime of the Rbf-kernel SVM classifer has become significantly slower, almost 100 times slower(it takes us almost 30mins to run the 3x3 gridsearch), as it is known to be computationally expensive to run on high dimension. So I had to significantly shrink the extent of gridsearch(a range closer to previous optimal hyperparameters), otherwise it's not feasible."
   ]
  },
  {
   "cell_type": "code",
   "execution_count": 41,
   "metadata": {},
   "outputs": [
    {
     "name": "stdout",
     "output_type": "stream",
     "text": [
      "running\n",
      "When C=  1.0 gamma= 0.001\n",
      "Rbf-SVM Classifier shows F1 score of 0.063460\n",
      "When C=  1.0 gamma= 0.01\n",
      "Rbf-SVM Classifier shows F1 score of 0.624571\n",
      "When C=  1.0 gamma= 0.1\n",
      "Rbf-SVM Classifier shows F1 score of 0.730905\n",
      "When C=  10.0 gamma= 0.001\n",
      "Rbf-SVM Classifier shows F1 score of 0.636364\n",
      "When C=  10.0 gamma= 0.01\n",
      "Rbf-SVM Classifier shows F1 score of 0.738854\n",
      "When C=  10.0 gamma= 0.1\n",
      "Rbf-SVM Classifier shows F1 score of 0.738328\n",
      "When C=  100.0 gamma= 0.001\n",
      "Rbf-SVM Classifier shows F1 score of 0.739030\n",
      "When C=  100.0 gamma= 0.01\n",
      "Rbf-SVM Classifier shows F1 score of 0.717565\n",
      "When C=  100.0 gamma= 0.1\n",
      "Rbf-SVM Classifier shows F1 score of 0.713128\n",
      "Best C= 100.0 Best gamma= 0.001 best f1 score=  0.7390300230946883\n"
     ]
    },
    {
     "ename": "NameError",
     "evalue": "name 'rbfsvm_heatpmap' is not defined",
     "output_type": "error",
     "traceback": [
      "\u001b[0;31m---------------------------------------------------------------------------\u001b[0m",
      "\u001b[0;31mNameError\u001b[0m                                 Traceback (most recent call last)",
      "\u001b[0;32m<ipython-input-41-49a3acd8fa99>\u001b[0m in \u001b[0;36m<module>\u001b[0;34m\u001b[0m\n\u001b[1;32m     27\u001b[0m \u001b[0;34m\u001b[0m\u001b[0m\n\u001b[1;32m     28\u001b[0m \u001b[0mprint\u001b[0m\u001b[0;34m(\u001b[0m\u001b[0;34m'Best C='\u001b[0m\u001b[0;34m,\u001b[0m\u001b[0mrbfsvm_bestC\u001b[0m\u001b[0;34m,\u001b[0m\u001b[0;34m'Best gamma='\u001b[0m\u001b[0;34m,\u001b[0m\u001b[0mrbfsvm_bestgamma\u001b[0m\u001b[0;34m,\u001b[0m\u001b[0;34m'best f1 score= '\u001b[0m\u001b[0;34m,\u001b[0m \u001b[0mF1_rbfsvm_best\u001b[0m\u001b[0;34m)\u001b[0m\u001b[0;34m\u001b[0m\u001b[0;34m\u001b[0m\u001b[0m\n\u001b[0;32m---> 29\u001b[0;31m \u001b[0mrbfsvm_heatpmap\u001b[0m\u001b[0;34m(\u001b[0m\u001b[0mgamma_list\u001b[0m\u001b[0;34m,\u001b[0m \u001b[0mC_list\u001b[0m\u001b[0;34m,\u001b[0m \u001b[0mF1_rbfsvm\u001b[0m\u001b[0;34m,\u001b[0m \u001b[0mbest_i\u001b[0m\u001b[0;34m,\u001b[0m \u001b[0mbest_j\u001b[0m\u001b[0;34m)\u001b[0m\u001b[0;34m\u001b[0m\u001b[0;34m\u001b[0m\u001b[0m\n\u001b[0m",
      "\u001b[0;31mNameError\u001b[0m: name 'rbfsvm_heatpmap' is not defined"
     ]
    }
   ],
   "source": [
    "# print('running')\n",
    "C_list = list(10. ** np.arange(0, 3))\n",
    "gamma_list = list(10. ** np.arange(-3, 0))\n",
    "F1_rbfsvm = np.zeros((len(C_list), len(gamma_list)))\n",
    "F1_rbfsvm_best = 0\n",
    "print('running')\n",
    "#train and test\n",
    "\n",
    "for i in range(len(C_list)):\n",
    "    for j in range(len(gamma_list)):\n",
    "        C=C_list[i]\n",
    "        gamma=gamma_list[j]    \n",
    "        rbfsvm = SVC(kernel= 'rbf', C=C, gamma=gamma, random_state=0)\n",
    "        rbfsvm.fit(X_2, y_train)\n",
    "        rbfsvm_pred = rbfsvm.predict(X_dev_2)\n",
    "        #calculate F1\n",
    "        print('When C= ', C, 'gamma=',gamma)\n",
    "        F1_rbfsvm[i][j] = f1(rbfsvm_pred, y_dev, 'Rbf-SVM Classifier')\n",
    "\n",
    "        if F1_rbfsvm[i,j] > F1_rbfsvm_best:\n",
    "            F1_rbfsvm_best = F1_rbfsvm[i][j]\n",
    "            rbfsvm_best_estimator = rbfsvm\n",
    "            rbfsvm_bestC = C\n",
    "            best_i = i\n",
    "            rbfsvm_bestgamma = gamma\n",
    "            best_j = j\n",
    "\n",
    "print('Best C=',rbfsvm_bestC,'Best gamma=',rbfsvm_bestgamma,'best f1 score= ', F1_rbfsvm_best)\n",
    "rbfsvm_heatpmap(gamma_list, C_list, F1_rbfsvm, best_i, best_j)"
   ]
  },
  {
   "cell_type": "code",
   "execution_count": 43,
   "metadata": {},
   "outputs": [
    {
     "data": {
      "image/png": "[encoded data removed]",
      "text/plain": [
       "<Figure size 864x864 with 2 Axes>"
      ]
     },
     "metadata": {
      "needs_background": "light"
     },
     "output_type": "display_data"
    }
   ],
   "source": [
    "rbfsvm_heatpmap(gamma_list, C_list, F1_rbfsvm, best_i, best_j)"
   ]
  },
  {
   "cell_type": "markdown",
   "metadata": {},
   "source": [
    "# (j) Incorporating the additional columns."
   ]
  },
  {
   "cell_type": "markdown",
   "metadata": {},
   "source": [
    "    Append WORDS to the tweet,and re-calculatethe bag of words or N -grams features\n",
    "    Create new categorical features corresponding tothe different values these columns\n",
    "    could take, and append these to the bag of words or N -grams features."
   ]
  },
  {
   "cell_type": "code",
   "execution_count": 42,
   "metadata": {},
   "outputs": [
    {
     "name": "stdout",
     "output_type": "stream",
     "text": [
      "\n",
      " before appending: \n",
      " .@RaniaKhalek true. I faced everything from 'Is Bin Laden your uncle?' to 'Hopefully Afghanistan will be bombed'. Children can be very ugly.\n",
      "\n",
      " after appending: \n",
      " .@RaniaKhalek true. I faced everything from 'Is Bin Laden your uncle?' to 'Hopefully Afghanistan will be bombed'. Children can be very ugly. bombed kabul tuebingen innsbruck\n"
     ]
    }
   ],
   "source": [
    "\n",
    "#reopen the train dataset to work with the entire 'keyword' and 'location' column \n",
    "train = pd.read_csv('train.csv')\n",
    "y = train.pop('target').values\n",
    "X1 = train\n",
    "\n",
    "\"\"\"dealing with null values. Fill in with '0' which will be stripped later\"\"\"\n",
    "\n",
    "#Check null values 61/2533\n",
    "X1.isnull().sum()\n",
    "X1 = X1.fillna('0')\n",
    "# print(X['keyword'].value_counts())\n",
    "# print(X['location'].value_counts())\n",
    "\n",
    "\n",
    "\"\"\"preprocessing for keyword and location\"\"\"\n",
    "\n",
    "#=====cleaning keyword =======\n",
    "\n",
    "#punctuations, hashtags, and numbers \n",
    "X1['keyword'] = X1['keyword'].str.replace(\"[^a-zA-Z0-9]\",\" \")\n",
    "X1['keyword'] = X1['keyword'].str.replace('\\d+', '')\n",
    "#lowercase\n",
    "X1['keyword'] = X1['keyword'].str.lower()\n",
    "\n",
    "#=====cleaning location =======\n",
    "\n",
    "#stripURL,mention,punctuations, hashtags, and numbers \n",
    "X1['location'] = X1['location'].str.replace(\"[^a-zA-Z0-9]\",\" \")\n",
    "X1['location'] = X1['location'].str.replace('\\d+', '')\n",
    "#lowercase\n",
    "X1['location'] = X1['location'].str.lower()\n",
    "\n",
    "\n",
    "\n",
    "\"\"\"tokenize and lemmatize keyword and location\"\"\"\n",
    "\n",
    "X1['keyword'] = X1['keyword'].apply(lambda x:tokenize(x))\n",
    "X1['location'] = X1['location'].apply(lambda x:tokenize(x))\n",
    "X1['processed_keyword'] = X1['keyword'].apply(lambda x:wordLem(x))\n",
    "X1['processed_location'] = X1['location'].apply(lambda x:wordLem(x))\n",
    "\n",
    "\n",
    "\"\"\"Appending processed keyword and locatoin to the text\"\"\"\n",
    "\n",
    "print(\"\\n before appending: \\n\", X1['text'][1114])\n",
    "\n",
    "X1['newtext'] = X1['text'] + ' ' +  X1['processed_keyword'] + ' ' + X1['processed_location']\n",
    "\n",
    "print(\"\\n after appending: \\n\", X1['newtext'][1114])"
   ]
  },
  {
   "cell_type": "code",
   "execution_count": 43,
   "metadata": {},
   "outputs": [
    {
     "data": {
      "text/html": [
       "<div>\n",
       "<style scoped>\n",
       "    .dataframe tbody tr th:only-of-type {\n",
       "        vertical-align: middle;\n",
       "    }\n",
       "\n",
       "    .dataframe tbody tr th {\n",
       "        vertical-align: top;\n",
       "    }\n",
       "\n",
       "    .dataframe thead th {\n",
       "        text-align: right;\n",
       "    }\n",
       "</style>\n",
       "<table border=\"1\" class=\"dataframe\">\n",
       "  <thead>\n",
       "    <tr style=\"text-align: right;\">\n",
       "      <th></th>\n",
       "      <th>id</th>\n",
       "      <th>keyword</th>\n",
       "      <th>location</th>\n",
       "      <th>text</th>\n",
       "      <th>processed_keyword</th>\n",
       "      <th>processed_location</th>\n",
       "      <th>newtext</th>\n",
       "    </tr>\n",
       "  </thead>\n",
       "  <tbody>\n",
       "    <tr>\n",
       "      <th>0</th>\n",
       "      <td>1</td>\n",
       "      <td>[]</td>\n",
       "      <td>[]</td>\n",
       "      <td>Our Deeds are the Reason of this #earthquake M...</td>\n",
       "      <td></td>\n",
       "      <td></td>\n",
       "      <td>Our Deeds are the Reason of this #earthquake M...</td>\n",
       "    </tr>\n",
       "    <tr>\n",
       "      <th>1</th>\n",
       "      <td>4</td>\n",
       "      <td>[]</td>\n",
       "      <td>[]</td>\n",
       "      <td>Forest fire near La Ronge Sask. Canada</td>\n",
       "      <td></td>\n",
       "      <td></td>\n",
       "      <td>Forest fire near La Ronge Sask. Canada</td>\n",
       "    </tr>\n",
       "    <tr>\n",
       "      <th>2</th>\n",
       "      <td>5</td>\n",
       "      <td>[]</td>\n",
       "      <td>[]</td>\n",
       "      <td>All residents asked to 'shelter in place' are ...</td>\n",
       "      <td></td>\n",
       "      <td></td>\n",
       "      <td>All residents asked to 'shelter in place' are ...</td>\n",
       "    </tr>\n",
       "    <tr>\n",
       "      <th>3</th>\n",
       "      <td>6</td>\n",
       "      <td>[]</td>\n",
       "      <td>[]</td>\n",
       "      <td>13,000 people receive #wildfires evacuation or...</td>\n",
       "      <td></td>\n",
       "      <td></td>\n",
       "      <td>13,000 people receive #wildfires evacuation or...</td>\n",
       "    </tr>\n",
       "    <tr>\n",
       "      <th>4</th>\n",
       "      <td>7</td>\n",
       "      <td>[]</td>\n",
       "      <td>[]</td>\n",
       "      <td>Just got sent this photo from Ruby #Alaska as ...</td>\n",
       "      <td></td>\n",
       "      <td></td>\n",
       "      <td>Just got sent this photo from Ruby #Alaska as ...</td>\n",
       "    </tr>\n",
       "  </tbody>\n",
       "</table>\n",
       "</div>"
      ],
      "text/plain": [
       "   id keyword location                                               text  \\\n",
       "0   1      []       []  Our Deeds are the Reason of this #earthquake M...   \n",
       "1   4      []       []             Forest fire near La Ronge Sask. Canada   \n",
       "2   5      []       []  All residents asked to 'shelter in place' are ...   \n",
       "3   6      []       []  13,000 people receive #wildfires evacuation or...   \n",
       "4   7      []       []  Just got sent this photo from Ruby #Alaska as ...   \n",
       "\n",
       "  processed_keyword processed_location  \\\n",
       "0                                        \n",
       "1                                        \n",
       "2                                        \n",
       "3                                        \n",
       "4                                        \n",
       "\n",
       "                                             newtext  \n",
       "0  Our Deeds are the Reason of this #earthquake M...  \n",
       "1           Forest fire near La Ronge Sask. Canada    \n",
       "2  All residents asked to 'shelter in place' are ...  \n",
       "3  13,000 people receive #wildfires evacuation or...  \n",
       "4  Just got sent this photo from Ruby #Alaska as ...  "
      ]
     },
     "execution_count": 43,
     "metadata": {},
     "output_type": "execute_result"
    }
   ],
   "source": [
    "X1.head()"
   ]
  },
  {
   "cell_type": "code",
   "execution_count": 44,
   "metadata": {},
   "outputs": [
    {
     "data": {
      "text/html": [
       "<div>\n",
       "<style scoped>\n",
       "    .dataframe tbody tr th:only-of-type {\n",
       "        vertical-align: middle;\n",
       "    }\n",
       "\n",
       "    .dataframe tbody tr th {\n",
       "        vertical-align: top;\n",
       "    }\n",
       "\n",
       "    .dataframe thead th {\n",
       "        text-align: right;\n",
       "    }\n",
       "</style>\n",
       "<table border=\"1\" class=\"dataframe\">\n",
       "  <thead>\n",
       "    <tr style=\"text-align: right;\">\n",
       "      <th></th>\n",
       "      <th>id</th>\n",
       "      <th>keyword</th>\n",
       "      <th>location</th>\n",
       "      <th>text</th>\n",
       "      <th>tweet</th>\n",
       "      <th>tokenized</th>\n",
       "      <th>cleantokens</th>\n",
       "      <th>lemmatized</th>\n",
       "      <th>key_loc_added</th>\n",
       "    </tr>\n",
       "  </thead>\n",
       "  <tbody>\n",
       "    <tr>\n",
       "      <th>0</th>\n",
       "      <td>1</td>\n",
       "      <td>NaN</td>\n",
       "      <td>NaN</td>\n",
       "      <td>Our Deeds are the Reason of this #earthquake M...</td>\n",
       "      <td>our deeds are the reason of this  earthquake m...</td>\n",
       "      <td>[our, deeds, are, the, reason, of, this, earth...</td>\n",
       "      <td>[deeds, reason, earthquake, may, allah, forgiv...</td>\n",
       "      <td>deed reason earthquake may allah forgive u</td>\n",
       "      <td></td>\n",
       "    </tr>\n",
       "    <tr>\n",
       "      <th>1</th>\n",
       "      <td>4</td>\n",
       "      <td>NaN</td>\n",
       "      <td>NaN</td>\n",
       "      <td>Forest fire near La Ronge Sask. Canada</td>\n",
       "      <td>forest fire near la ronge sask  canada</td>\n",
       "      <td>[forest, fire, near, la, ronge, sask, canada]</td>\n",
       "      <td>[forest, fire, near, la, ronge, sask, canada]</td>\n",
       "      <td>forest fire near la ronge sask canada</td>\n",
       "      <td></td>\n",
       "    </tr>\n",
       "    <tr>\n",
       "      <th>2</th>\n",
       "      <td>5</td>\n",
       "      <td>NaN</td>\n",
       "      <td>NaN</td>\n",
       "      <td>All residents asked to 'shelter in place' are ...</td>\n",
       "      <td>all residents asked to  shelter in place  are ...</td>\n",
       "      <td>[all, residents, asked, to, shelter, in, place...</td>\n",
       "      <td>[residents, asked, shelter, place, notified, o...</td>\n",
       "      <td>resident asked shelter place notified officer ...</td>\n",
       "      <td></td>\n",
       "    </tr>\n",
       "    <tr>\n",
       "      <th>3</th>\n",
       "      <td>6</td>\n",
       "      <td>NaN</td>\n",
       "      <td>NaN</td>\n",
       "      <td>13,000 people receive #wildfires evacuation or...</td>\n",
       "      <td>people receive  wildfires evacuation orders ...</td>\n",
       "      <td>[people, receive, wildfires, evacuation, order...</td>\n",
       "      <td>[people, receive, wildfires, evacuation, order...</td>\n",
       "      <td>people receive wildfire evacuation order calif...</td>\n",
       "      <td></td>\n",
       "    </tr>\n",
       "    <tr>\n",
       "      <th>4</th>\n",
       "      <td>7</td>\n",
       "      <td>NaN</td>\n",
       "      <td>NaN</td>\n",
       "      <td>Just got sent this photo from Ruby #Alaska as ...</td>\n",
       "      <td>just got sent this photo from ruby  alaska as ...</td>\n",
       "      <td>[just, got, sent, this, photo, from, ruby, ala...</td>\n",
       "      <td>[got, sent, photo, ruby, alaska, smoke, wildfi...</td>\n",
       "      <td>got sent photo ruby alaska smoke wildfire pour...</td>\n",
       "      <td></td>\n",
       "    </tr>\n",
       "  </tbody>\n",
       "</table>\n",
       "</div>"
      ],
      "text/plain": [
       "   id keyword location                                               text  \\\n",
       "0   1     NaN      NaN  Our Deeds are the Reason of this #earthquake M...   \n",
       "1   4     NaN      NaN             Forest fire near La Ronge Sask. Canada   \n",
       "2   5     NaN      NaN  All residents asked to 'shelter in place' are ...   \n",
       "3   6     NaN      NaN  13,000 people receive #wildfires evacuation or...   \n",
       "4   7     NaN      NaN  Just got sent this photo from Ruby #Alaska as ...   \n",
       "\n",
       "                                               tweet  \\\n",
       "0  our deeds are the reason of this  earthquake m...   \n",
       "1             forest fire near la ronge sask  canada   \n",
       "2  all residents asked to  shelter in place  are ...   \n",
       "3    people receive  wildfires evacuation orders ...   \n",
       "4  just got sent this photo from ruby  alaska as ...   \n",
       "\n",
       "                                           tokenized  \\\n",
       "0  [our, deeds, are, the, reason, of, this, earth...   \n",
       "1      [forest, fire, near, la, ronge, sask, canada]   \n",
       "2  [all, residents, asked, to, shelter, in, place...   \n",
       "3  [people, receive, wildfires, evacuation, order...   \n",
       "4  [just, got, sent, this, photo, from, ruby, ala...   \n",
       "\n",
       "                                         cleantokens  \\\n",
       "0  [deeds, reason, earthquake, may, allah, forgiv...   \n",
       "1      [forest, fire, near, la, ronge, sask, canada]   \n",
       "2  [residents, asked, shelter, place, notified, o...   \n",
       "3  [people, receive, wildfires, evacuation, order...   \n",
       "4  [got, sent, photo, ruby, alaska, smoke, wildfi...   \n",
       "\n",
       "                                          lemmatized key_loc_added  \n",
       "0         deed reason earthquake may allah forgive u                \n",
       "1              forest fire near la ronge sask canada                \n",
       "2  resident asked shelter place notified officer ...                \n",
       "3  people receive wildfire evacuation order calif...                \n",
       "4  got sent photo ruby alaska smoke wildfire pour...                "
      ]
     },
     "execution_count": 44,
     "metadata": {},
     "output_type": "execute_result"
    }
   ],
   "source": [
    "X1['key_loc_added'] = X1['processed_keyword'] + ' ' + X1['processed_location']\n",
    "added = pd.DataFrame(X1['key_loc_added'])\n",
    "X = pd.concat([X,added], axis=1)\n",
    "X.head()"
   ]
  },
  {
   "cell_type": "code",
   "execution_count": 45,
   "metadata": {},
   "outputs": [
    {
     "data": {
      "text/html": [
       "<div>\n",
       "<style scoped>\n",
       "    .dataframe tbody tr th:only-of-type {\n",
       "        vertical-align: middle;\n",
       "    }\n",
       "\n",
       "    .dataframe tbody tr th {\n",
       "        vertical-align: top;\n",
       "    }\n",
       "\n",
       "    .dataframe thead th {\n",
       "        text-align: right;\n",
       "    }\n",
       "</style>\n",
       "<table border=\"1\" class=\"dataframe\">\n",
       "  <thead>\n",
       "    <tr style=\"text-align: right;\">\n",
       "      <th></th>\n",
       "      <th>id</th>\n",
       "      <th>keyword</th>\n",
       "      <th>location</th>\n",
       "      <th>text</th>\n",
       "      <th>tweet</th>\n",
       "      <th>tokenized</th>\n",
       "      <th>cleantokens</th>\n",
       "      <th>lemmatized</th>\n",
       "      <th>key_loc_added</th>\n",
       "      <th>newtext</th>\n",
       "    </tr>\n",
       "  </thead>\n",
       "  <tbody>\n",
       "    <tr>\n",
       "      <th>0</th>\n",
       "      <td>1</td>\n",
       "      <td>NaN</td>\n",
       "      <td>NaN</td>\n",
       "      <td>Our Deeds are the Reason of this #earthquake M...</td>\n",
       "      <td>our deeds are the reason of this  earthquake m...</td>\n",
       "      <td>[our, deeds, are, the, reason, of, this, earth...</td>\n",
       "      <td>[deeds, reason, earthquake, may, allah, forgiv...</td>\n",
       "      <td>deed reason earthquake may allah forgive u</td>\n",
       "      <td></td>\n",
       "      <td>deed reason earthquake may allah forgive u</td>\n",
       "    </tr>\n",
       "    <tr>\n",
       "      <th>1</th>\n",
       "      <td>4</td>\n",
       "      <td>NaN</td>\n",
       "      <td>NaN</td>\n",
       "      <td>Forest fire near La Ronge Sask. Canada</td>\n",
       "      <td>forest fire near la ronge sask  canada</td>\n",
       "      <td>[forest, fire, near, la, ronge, sask, canada]</td>\n",
       "      <td>[forest, fire, near, la, ronge, sask, canada]</td>\n",
       "      <td>forest fire near la ronge sask canada</td>\n",
       "      <td></td>\n",
       "      <td>forest fire near la ronge sask canada</td>\n",
       "    </tr>\n",
       "    <tr>\n",
       "      <th>2</th>\n",
       "      <td>5</td>\n",
       "      <td>NaN</td>\n",
       "      <td>NaN</td>\n",
       "      <td>All residents asked to 'shelter in place' are ...</td>\n",
       "      <td>all residents asked to  shelter in place  are ...</td>\n",
       "      <td>[all, residents, asked, to, shelter, in, place...</td>\n",
       "      <td>[residents, asked, shelter, place, notified, o...</td>\n",
       "      <td>resident asked shelter place notified officer ...</td>\n",
       "      <td></td>\n",
       "      <td>resident asked shelter place notified officer ...</td>\n",
       "    </tr>\n",
       "    <tr>\n",
       "      <th>3</th>\n",
       "      <td>6</td>\n",
       "      <td>NaN</td>\n",
       "      <td>NaN</td>\n",
       "      <td>13,000 people receive #wildfires evacuation or...</td>\n",
       "      <td>people receive  wildfires evacuation orders ...</td>\n",
       "      <td>[people, receive, wildfires, evacuation, order...</td>\n",
       "      <td>[people, receive, wildfires, evacuation, order...</td>\n",
       "      <td>people receive wildfire evacuation order calif...</td>\n",
       "      <td></td>\n",
       "      <td>people receive wildfire evacuation order calif...</td>\n",
       "    </tr>\n",
       "    <tr>\n",
       "      <th>4</th>\n",
       "      <td>7</td>\n",
       "      <td>NaN</td>\n",
       "      <td>NaN</td>\n",
       "      <td>Just got sent this photo from Ruby #Alaska as ...</td>\n",
       "      <td>just got sent this photo from ruby  alaska as ...</td>\n",
       "      <td>[just, got, sent, this, photo, from, ruby, ala...</td>\n",
       "      <td>[got, sent, photo, ruby, alaska, smoke, wildfi...</td>\n",
       "      <td>got sent photo ruby alaska smoke wildfire pour...</td>\n",
       "      <td></td>\n",
       "      <td>got sent photo ruby alaska smoke wildfire pour...</td>\n",
       "    </tr>\n",
       "  </tbody>\n",
       "</table>\n",
       "</div>"
      ],
      "text/plain": [
       "   id keyword location                                               text  \\\n",
       "0   1     NaN      NaN  Our Deeds are the Reason of this #earthquake M...   \n",
       "1   4     NaN      NaN             Forest fire near La Ronge Sask. Canada   \n",
       "2   5     NaN      NaN  All residents asked to 'shelter in place' are ...   \n",
       "3   6     NaN      NaN  13,000 people receive #wildfires evacuation or...   \n",
       "4   7     NaN      NaN  Just got sent this photo from Ruby #Alaska as ...   \n",
       "\n",
       "                                               tweet  \\\n",
       "0  our deeds are the reason of this  earthquake m...   \n",
       "1             forest fire near la ronge sask  canada   \n",
       "2  all residents asked to  shelter in place  are ...   \n",
       "3    people receive  wildfires evacuation orders ...   \n",
       "4  just got sent this photo from ruby  alaska as ...   \n",
       "\n",
       "                                           tokenized  \\\n",
       "0  [our, deeds, are, the, reason, of, this, earth...   \n",
       "1      [forest, fire, near, la, ronge, sask, canada]   \n",
       "2  [all, residents, asked, to, shelter, in, place...   \n",
       "3  [people, receive, wildfires, evacuation, order...   \n",
       "4  [just, got, sent, this, photo, from, ruby, ala...   \n",
       "\n",
       "                                         cleantokens  \\\n",
       "0  [deeds, reason, earthquake, may, allah, forgiv...   \n",
       "1      [forest, fire, near, la, ronge, sask, canada]   \n",
       "2  [residents, asked, shelter, place, notified, o...   \n",
       "3  [people, receive, wildfires, evacuation, order...   \n",
       "4  [got, sent, photo, ruby, alaska, smoke, wildfi...   \n",
       "\n",
       "                                          lemmatized key_loc_added  \\\n",
       "0         deed reason earthquake may allah forgive u                 \n",
       "1              forest fire near la ronge sask canada                 \n",
       "2  resident asked shelter place notified officer ...                 \n",
       "3  people receive wildfire evacuation order calif...                 \n",
       "4  got sent photo ruby alaska smoke wildfire pour...                 \n",
       "\n",
       "                                             newtext  \n",
       "0       deed reason earthquake may allah forgive u    \n",
       "1            forest fire near la ronge sask canada    \n",
       "2  resident asked shelter place notified officer ...  \n",
       "3  people receive wildfire evacuation order calif...  \n",
       "4  got sent photo ruby alaska smoke wildfire pour...  "
      ]
     },
     "execution_count": 45,
     "metadata": {},
     "output_type": "execute_result"
    }
   ],
   "source": [
    "X['newtext'] = X['lemmatized'] + ' ' +  X['key_loc_added']\n",
    "X.head()"
   ]
  },
  {
   "cell_type": "markdown",
   "metadata": {},
   "source": [
    "#### Re-make the Ngram"
   ]
  },
  {
   "cell_type": "code",
   "execution_count": 46,
   "metadata": {},
   "outputs": [
    {
     "name": "stdout",
     "output_type": "stream",
     "text": [
      "train data:  (5329, 10)\n",
      "dev data:  (2284, 10)\n"
     ]
    }
   ],
   "source": [
    "# split the train and dev with the combined X \n",
    "from sklearn.model_selection import train_test_split\n",
    "X_train, X_dev, y_train, y_dev = train_test_split(X, y, train_size=0.70,test_size=0.30)\n",
    "print(\"train data: \",X_train.shape)\n",
    "print(\"dev data: \",X_dev.shape)"
   ]
  },
  {
   "cell_type": "code",
   "execution_count": 47,
   "metadata": {},
   "outputs": [
    {
     "name": "stdout",
     "output_type": "stream",
     "text": [
      "\n",
      " before appending: \n",
      " .@RaniaKhalek true. I faced everything from 'Is Bin Laden your uncle?' to 'Hopefully Afghanistan will be bombed'. Children can be very ugly.\n",
      "\n",
      " after appending: \n",
      " .@RaniaKhalek true. I faced everything from 'Is Bin Laden your uncle?' to 'Hopefully Afghanistan will be bombed'. Children can be very ugly. bombed kabul tuebingen innsbruck\n"
     ]
    }
   ],
   "source": [
    "\n",
    "#reopen the train dataset to work with the entire 'keyword' and 'location' column \n",
    "train = pd.read_csv('train.csv')\n",
    "y = train.pop('target').values\n",
    "X1 = train\n",
    "\n",
    "\"\"\"dealing with null values. Fill in with '0' which will be stripped later\"\"\"\n",
    "\n",
    "#Check null values 61/2533\n",
    "X1.isnull().sum()\n",
    "X1 = X1.fillna('0')\n",
    "# print(X['keyword'].value_counts())\n",
    "# print(X['location'].value_counts())\n",
    "\n",
    "\n",
    "\"\"\"preprocessing for keyword and location\"\"\"\n",
    "\n",
    "#=====cleaning keyword =======\n",
    "\n",
    "#punctuations, hashtags, and numbers \n",
    "X1['keyword'] = X1['keyword'].str.replace(\"[^a-zA-Z0-9]\",\" \")\n",
    "X1['keyword'] = X1['keyword'].str.replace('\\d+', '')\n",
    "#lowercase\n",
    "X1['keyword'] = X1['keyword'].str.lower()\n",
    "\n",
    "#=====cleaning location =======\n",
    "\n",
    "#stripURL,mention,punctuations, hashtags, and numbers \n",
    "X1['location'] = X1['location'].str.replace(\"[^a-zA-Z0-9]\",\" \")\n",
    "X1['location'] = X1['location'].str.replace('\\d+', '')\n",
    "#lowercase\n",
    "X1['location'] = X1['location'].str.lower()\n",
    "\n",
    "\n",
    "\n",
    "\"\"\"tokenize and lemmatize keyword and location\"\"\"\n",
    "\n",
    "X1['keyword'] = X1['keyword'].apply(lambda x:tokenize(x))\n",
    "X1['location'] = X1['location'].apply(lambda x:tokenize(x))\n",
    "X1['processed_keyword'] = X1['keyword'].apply(lambda x:wordLem(x))\n",
    "X1['processed_location'] = X1['location'].apply(lambda x:wordLem(x))\n",
    "\n",
    "\n",
    "\"\"\"Appending processed keyword and locatoin to the text\"\"\"\n",
    "\n",
    "print(\"\\n before appending: \\n\", X1['text'][1114])\n",
    "\n",
    "X1['newtext'] = X1['text'] + ' ' +  X1['processed_keyword'] + ' ' + X1['processed_location']\n",
    "\n",
    "print(\"\\n after appending: \\n\", X1['newtext'][1114])"
   ]
  },
  {
   "cell_type": "code",
   "execution_count": 48,
   "metadata": {},
   "outputs": [],
   "source": [
    "X_2_re = bigram_vectorizer.fit_transform(X_train['newtext']).toarray()\n",
    "X_dev_2_re = bigram_vectorizer.transform(X_dev['newtext']).toarray()"
   ]
  },
  {
   "cell_type": "markdown",
   "metadata": {},
   "source": [
    "#### Logistic Regression with Re-made Ngram\n",
    "    Logistic Regression shows F1 score of 0.746494"
   ]
  },
  {
   "cell_type": "code",
   "execution_count": 130,
   "metadata": {},
   "outputs": [
    {
     "name": "stdout",
     "output_type": "stream",
     "text": [
      "Logistic Regression shows F1 score of 0.735182\n",
      "The top ten feature names are:\n",
      "0: palo, fatal, church, hostage, blown away, pm wreckage, perhaps, continue, property casualty, evil\n",
      "1: palo, fatal, church, hostage, blown away, pm wreckage, perhaps, continue, property casualty, evil\n"
     ]
    }
   ],
   "source": [
    "# Fitting a simple Logistic Regression on new Ngram bow\n",
    "logreg_bow = LogisticRegression(C=1.0)\n",
    "lr_trained = logreg_bow.fit(X_2_re, y_train)\n",
    "\n",
    "#metrics\n",
    "lr_x_pred = lr_trained.predict(X_dev_2_re)\n",
    "\n",
    "f1(lr_x_pred, y_dev, 'Logistic Regression')\n",
    "print_top10(bigram_vectorizer, lr_trained, class_labels)"
   ]
  },
  {
   "cell_type": "markdown",
   "metadata": {},
   "source": [
    "#### LinearSVM with Re-made Ngram"
   ]
  },
  {
   "cell_type": "code",
   "execution_count": 50,
   "metadata": {},
   "outputs": [
    {
     "name": "stdout",
     "output_type": "stream",
     "text": [
      "When C=  0.001\n",
      "LinearSVM Classifier shows F1 score of 0.628832\n",
      "When C=  0.01\n",
      "LinearSVM Classifier shows F1 score of 0.726757\n",
      "When C=  0.02\n",
      "LinearSVM Classifier shows F1 score of 0.735196\n",
      "When C=  0.04\n",
      "LinearSVM Classifier shows F1 score of 0.734107\n",
      "When C=  0.06\n",
      "LinearSVM Classifier shows F1 score of 0.731384\n",
      "When C=  0.08\n",
      "LinearSVM Classifier shows F1 score of 0.731065\n",
      "When C=  0.1\n",
      "LinearSVM Classifier shows F1 score of 0.733115\n",
      "When C=  0.2\n",
      "LinearSVM Classifier shows F1 score of 0.722762\n",
      "When C=  1.0\n",
      "LinearSVM Classifier shows F1 score of 0.694371\n",
      "When C=  10.0\n",
      "LinearSVM Classifier shows F1 score of 0.668731\n"
     ]
    },
    {
     "name": "stderr",
     "output_type": "stream",
     "text": [
      "c:\\users\\hr\\appdata\\local\\programs\\python\\python38\\lib\\site-packages\\sklearn\\svm\\_base.py:976: ConvergenceWarning: Liblinear failed to converge, increase the number of iterations.\n",
      "  warnings.warn(\"Liblinear failed to converge, increase \"\n"
     ]
    },
    {
     "name": "stdout",
     "output_type": "stream",
     "text": [
      "When C=  100.0\n",
      "LinearSVM Classifier shows F1 score of 0.665983\n"
     ]
    },
    {
     "data": {
      "image/png": "[encoded data removed]",
      "text/plain": [
       "<Figure size 720x432 with 1 Axes>"
      ]
     },
     "metadata": {
      "needs_background": "light"
     },
     "output_type": "display_data"
    },
    {
     "name": "stdout",
     "output_type": "stream",
     "text": [
      "C = 0.02  yields the best classification performance with F1-score of 0.735196\n",
      "The top ten feature names are:\n",
      "0: evacuated, derailment, massacre, drought, flood, train, typhoon, earthquake, wildfire, hiroshima\n",
      "1: evacuated, derailment, massacre, drought, flood, train, typhoon, earthquake, wildfire, hiroshima\n"
     ]
    }
   ],
   "source": [
    "\n",
    "C_range= [0.001, 0.01, 0.02, 0.04, 0.06, 0.08, 0.1, 0.2, 1.0, 10.0, 100.0]\n",
    "F1_lsvm = {}\n",
    "\n",
    "#train and test\n",
    "C=0\n",
    "for C in C_range:\n",
    "    lsvm = LinearSVC(C=C, tol=1e-4,dual=False,random_state=0)\n",
    "    lsvm.fit(X_2_re, y_train)\n",
    "    lsvm_pred = lsvm.predict(X_dev_2_re)\n",
    "    #calculate F1\n",
    "    print('When C= ', C)\n",
    "    F1_lsvm[C] = f1(lsvm_pred, y_dev, 'LinearSVM Classifier')\n",
    "    \n",
    "    if C == max(F1_lsvm, key=F1_lsvm.get):\n",
    "        lsvm_best_estimator = lsvm\n",
    "        lsvm_bestC = C\n",
    "        \n",
    "#plot the F1 score figure\n",
    "\n",
    "def lsvm_plot (C_range, F1_lsvm):  \n",
    "    plt.subplots(figsize=(10,6))\n",
    "    plt.plot(C_range, F1_lsvm.values())\n",
    "    plt.xlabel('C') \n",
    "    plt.ylabel('F1 score on dev set') \n",
    "    plt.xscale(\"log\")\n",
    "    plt.title('LinearSVM Score') \n",
    "    plt.show() \n",
    "\n",
    "lsvm_plot(C_range, F1_lsvm)\n",
    "\n",
    "#compare the best parameter with Linear Regression Classifier\n",
    "print('C =', lsvm_bestC,' yields the best classification performance with F1-score of {:4f}'.format(F1_lsvm[lsvm_bestC]))\n",
    "\n",
    "print_top10(bigram_vectorizer, lsvm_best_estimator, lsvm.classes_)"
   ]
  },
  {
   "cell_type": "markdown",
   "metadata": {},
   "source": [
    "#### Non-linear SVM with Re-made Ngram\n",
    "As mentioned before, it has become very computationally expensive to run Rbf-kernel SVM with the additional feature. So we had to shrink the extent of the gridsearch (a range closer to previous optimal hyperparameter)"
   ]
  },
  {
   "cell_type": "code",
   "execution_count": 52,
   "metadata": {},
   "outputs": [
    {
     "name": "stdout",
     "output_type": "stream",
     "text": [
      "running\n",
      "When C=  1.0 gamma= 0.001\n",
      "Rbf-SVM Classifier shows F1 score of 0.200371\n",
      "When C=  1.0 gamma= 0.01\n",
      "Rbf-SVM Classifier shows F1 score of 0.689116\n",
      "When C=  1.0 gamma= 0.1\n",
      "Rbf-SVM Classifier shows F1 score of 0.734463\n",
      "When C=  10.0 gamma= 0.001\n",
      "Rbf-SVM Classifier shows F1 score of 0.697400\n",
      "When C=  10.0 gamma= 0.01\n",
      "Rbf-SVM Classifier shows F1 score of 0.723239\n",
      "When C=  10.0 gamma= 0.1\n",
      "Rbf-SVM Classifier shows F1 score of 0.709258\n",
      "When C=  100.0 gamma= 0.001\n",
      "Rbf-SVM Classifier shows F1 score of 0.721330\n",
      "When C=  100.0 gamma= 0.01\n",
      "Rbf-SVM Classifier shows F1 score of 0.700792\n",
      "When C=  100.0 gamma= 0.1\n",
      "Rbf-SVM Classifier shows F1 score of 0.709642\n",
      "Best C= 1.0 Best gamma= 0.1 best f1 score=  0.7344632768361581\n"
     ]
    },
    {
     "data": {
      "image/png": "[encoded data removed]",
      "text/plain": [
       "<Figure size 864x864 with 2 Axes>"
      ]
     },
     "metadata": {
      "needs_background": "light"
     },
     "output_type": "display_data"
    }
   ],
   "source": [
    "# print('running')\n",
    "C_list = list(10. ** np.arange(0, 3))\n",
    "gamma_list = list(10. ** np.arange(-3, 0))\n",
    "F1_rbfsvm = np.zeros((len(C_list), len(gamma_list)))\n",
    "F1_rbfsvm_best = 0\n",
    "print('running')\n",
    "#train and test\n",
    "\n",
    "for i in range(len(C_list)):\n",
    "    for j in range(len(gamma_list)):\n",
    "        C=C_list[i]\n",
    "        gamma=gamma_list[j]    \n",
    "        rbfsvm = SVC(kernel= 'rbf', C=C, gamma=gamma, random_state=0)\n",
    "        rbfsvm.fit(X_2_re, y_train)\n",
    "        rbfsvm_pred = rbfsvm.predict(X_dev_2_re)\n",
    "        #calculate F1\n",
    "        print('When C= ', C, 'gamma=',gamma)\n",
    "        F1_rbfsvm[i][j] = f1(rbfsvm_pred, y_dev, 'Rbf-SVM Classifier')\n",
    "\n",
    "        if F1_rbfsvm[i,j] > F1_rbfsvm_best:\n",
    "            F1_rbfsvm_best = F1_rbfsvm[i][j]\n",
    "            rbfsvm_best_estimator = rbfsvm\n",
    "            rbfsvm_bestC = C\n",
    "            best_i = i\n",
    "            rbfsvm_bestgamma = gamma\n",
    "            best_j = j\n",
    "\n",
    "print('Best C=',rbfsvm_bestC,'Best gamma=',rbfsvm_bestgamma,'best f1 score= ', F1_rbfsvm_best)\n",
    "rbfsvm_heatpmap(gamma_list, C_list, F1_rbfsvm, best_i, best_j)"
   ]
  }
 ],
 "metadata": {
  "kernelspec": {
   "display_name": "Python 3",
   "language": "python",
   "name": "python3"
  },
  "language_info": {
   "codemirror_mode": {
    "name": "ipython",
    "version": 3
   },
   "file_extension": ".py",
   "mimetype": "text/x-python",
   "name": "python",
   "nbconvert_exporter": "python",
   "pygments_lexer": "ipython3",
   "version": "3.8.3"
  }
 },
 "nbformat": 4,
 "nbformat_minor": 4
}
